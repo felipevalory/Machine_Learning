{
 "cells": [
  {
   "cell_type": "markdown",
   "metadata": {},
   "source": [
    "# Linear Regression"
   ]
  },
  {
   "cell_type": "markdown",
   "metadata": {},
   "source": [
    "### Import Libraries"
   ]
  },
  {
   "cell_type": "code",
   "execution_count": 1,
   "metadata": {},
   "outputs": [],
   "source": [
    "import pandas as pd\n",
    "import numpy  as np\n",
    "\n",
    "from sklearn              import metrics as mt\n",
    "from sklearn.linear_model import LinearRegression"
   ]
  },
  {
   "cell_type": "markdown",
   "metadata": {},
   "source": [
    "### Load Dataset"
   ]
  },
  {
   "cell_type": "code",
   "execution_count": 2,
   "metadata": {},
   "outputs": [],
   "source": [
    "X_train = pd.read_csv('Training/X_training.csv')\n",
    "y_train = pd.read_csv('Training/y_training.csv')\n",
    "X_val = pd.read_csv('Validation/X_val.csv')\n",
    "y_val = pd.read_csv('Validation/y_val.csv')\n",
    "X_test = pd.read_csv('Test/X_test.csv')\n",
    "y_test = pd.read_csv('Test/y_test.csv')"
   ]
  },
  {
   "cell_type": "markdown",
   "metadata": {},
   "source": [
    "### Model Training"
   ]
  },
  {
   "cell_type": "code",
   "execution_count": 4,
   "metadata": {},
   "outputs": [
    {
     "name": "stdout",
     "output_type": "stream",
     "text": [
      "R2: 0.05\n",
      "MSE: 456.00\n",
      "RMSE: 21.35\n",
      "MAE: 17.00\n",
      "MAPE: 8.65%\n"
     ]
    }
   ],
   "source": [
    "# Define\n",
    "lr_model = LinearRegression()\n",
    "\n",
    "# Fit\n",
    "lr_model.fit(X_train, y_train)\n",
    "\n",
    "# Predict\n",
    "yhat_train = lr_model.predict(X_train)\n",
    "\n",
    "r2_train = mt.r2_score(y_train, yhat_train)\n",
    "print(f'R2: {r2_train:.2f}')\n",
    "\n",
    "mse_train = mt.mean_squared_error(y_train, yhat_train)\n",
    "print(f'MSE: {mse_train:.2f}')\n",
    "\n",
    "rmse_train = np.sqrt(mse_train)\n",
    "print(f'RMSE: {rmse_train:.2f}')\n",
    "\n",
    "mae_train = mt.mean_absolute_error(y_train, yhat_train)\n",
    "print(f'MAE: {mae_train:.2f}')\n",
    "\n",
    "mape_train = mt.mean_absolute_percentage_error(y_train, yhat_train)\n",
    "print(f'MAPE: {mape_train:.2f}%')"
   ]
  },
  {
   "cell_type": "markdown",
   "metadata": {},
   "source": [
    "### Validation"
   ]
  },
  {
   "cell_type": "code",
   "execution_count": 6,
   "metadata": {},
   "outputs": [
    {
     "name": "stdout",
     "output_type": "stream",
     "text": [
      "R2: 0.04\n",
      "MSE: 458.45\n",
      "RMSE: 21.41\n",
      "MAE: 17.04\n",
      "MAPE: 8.68%\n"
     ]
    }
   ],
   "source": [
    "# Define\n",
    "lr_model = LinearRegression()\n",
    "\n",
    "# Fit\n",
    "lr_model.fit(X_train, y_train)\n",
    "\n",
    "# Predict\n",
    "yhat_val = lr_model.predict(X_val)\n",
    "\n",
    "r2_train = mt.r2_score(y_val, yhat_val)\n",
    "print(f'R2: {r2_train:.2f}')\n",
    "\n",
    "mse_train = mt.mean_squared_error(y_val, yhat_val)\n",
    "print(f'MSE: {mse_train:.2f}')\n",
    "\n",
    "rmse_train = np.sqrt(mse_train)\n",
    "print(f'RMSE: {rmse_train:.2f}')\n",
    "\n",
    "mae_train = mt.mean_absolute_error(y_val, yhat_val)\n",
    "print(f'MAE: {mae_train:.2f}')\n",
    "\n",
    "mape_train = mt.mean_absolute_percentage_error(y_val, yhat_val)\n",
    "print(f'MAPE: {mape_train:.2f}%')"
   ]
  },
  {
   "cell_type": "markdown",
   "metadata": {},
   "source": [
    "### Test"
   ]
  },
  {
   "cell_type": "code",
   "execution_count": 8,
   "metadata": {},
   "outputs": [
    {
     "name": "stdout",
     "output_type": "stream",
     "text": [
      "R2: 0.05\n",
      "MSE: 461.99\n",
      "RMSE: 21.49\n",
      "MAE: 17.14\n",
      "MAPE: 8.53%\n"
     ]
    },
    {
     "name": "stderr",
     "output_type": "stream",
     "text": [
      "c:\\Users\\Felipe\\AppData\\Local\\Programs\\Python\\Python311\\Lib\\site-packages\\sklearn\\base.py:486: UserWarning: X has feature names, but LinearRegression was fitted without feature names\n",
      "  warnings.warn(\n"
     ]
    }
   ],
   "source": [
    "# Define\n",
    "lr_model = LinearRegression()\n",
    "\n",
    "# Fit\n",
    "lr_model.fit(np.concatenate( (X_train, X_val)),\n",
    "             np.concatenate(( y_train, y_val)))\n",
    "\n",
    "# Predict\n",
    "y_pred = lr_model.predict(X_test)\n",
    "\n",
    "r2_train = mt.r2_score(y_test, y_pred)\n",
    "print(f'R2: {r2_train:.2f}')\n",
    "\n",
    "mse_train = mt.mean_squared_error(y_test, y_pred)\n",
    "print(f'MSE: {mse_train:.2f}')\n",
    "\n",
    "rmse_train = np.sqrt(mse_train)\n",
    "print(f'RMSE: {rmse_train:.2f}')\n",
    "\n",
    "mae_train = mt.mean_absolute_error(y_test, y_pred)\n",
    "print(f'MAE: {mae_train:.2f}')\n",
    "\n",
    "mape_train = mt.mean_absolute_percentage_error(y_test, y_pred)\n",
    "print(f'MAPE: {mape_train:.2f}%')"
   ]
  }
 ],
 "metadata": {
  "kernelspec": {
   "display_name": "Python 3",
   "language": "python",
   "name": "python3"
  },
  "language_info": {
   "codemirror_mode": {
    "name": "ipython",
    "version": 3
   },
   "file_extension": ".py",
   "mimetype": "text/x-python",
   "name": "python",
   "nbconvert_exporter": "python",
   "pygments_lexer": "ipython3",
   "version": "3.11.4"
  }
 },
 "nbformat": 4,
 "nbformat_minor": 2
}
