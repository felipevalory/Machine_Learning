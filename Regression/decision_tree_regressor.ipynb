{
 "cells": [
  {
   "cell_type": "markdown",
   "metadata": {},
   "source": [
    "# Decision Tree Regressor"
   ]
  },
  {
   "cell_type": "markdown",
   "metadata": {},
   "source": [
    "### Import Libraries"
   ]
  },
  {
   "cell_type": "code",
   "execution_count": 2,
   "metadata": {},
   "outputs": [],
   "source": [
    "import pandas as pd\n",
    "import numpy  as np\n",
    "\n",
    "from sklearn import model_selection as ms\n",
    "from sklearn import tree            as tr\n",
    "from sklearn import metrics         as mt"
   ]
  },
  {
   "cell_type": "markdown",
   "metadata": {},
   "source": [
    "### Load Dataset"
   ]
  },
  {
   "cell_type": "code",
   "execution_count": 3,
   "metadata": {},
   "outputs": [],
   "source": [
    "X_train = pd.read_csv('Training/X_training.csv')\n",
    "y_train = pd.read_csv('Training/y_training.csv')\n",
    "X_val = pd.read_csv('Validation/X_val.csv')\n",
    "y_val = pd.read_csv('Validation/y_val.csv')\n",
    "X_test = pd.read_csv('Test/X_test.csv')\n",
    "y_test = pd.read_csv('Test/y_test.csv')"
   ]
  },
  {
   "cell_type": "markdown",
   "metadata": {},
   "source": [
    "### Training"
   ]
  },
  {
   "cell_type": "code",
   "execution_count": 12,
   "metadata": {},
   "outputs": [
    {
     "name": "stdout",
     "output_type": "stream",
     "text": [
      "Max R2: 0.992\n",
      "Min MSE: 3.94\n",
      "Min RMSE: 1.985\n",
      "Min MAE: 0.214\n",
      "Min MAPE: 0.083\n"
     ]
    }
   ],
   "source": [
    "m = np.arange( 1, 41, 1)\n",
    "mse_list = []\n",
    "max_r2 = 0\n",
    "min_mse = float('inf')\n",
    "min_rmse = float('inf')\n",
    "min_mae = float('inf')\n",
    "min_mape = float('inf')\n",
    "\n",
    "for i in m:\n",
    "\n",
    "    # Define\n",
    "    model = tr.DecisionTreeRegressor(max_depth=i)\n",
    "\n",
    "    # Fit\n",
    "    model.fit(X_train, y_train)\n",
    "\n",
    "    # Predict\n",
    "    yhat_train = model.predict(X_train)\n",
    "\n",
    "    # R²\n",
    "    r2_train = np.round(mt.r2_score(y_train, yhat_train), 3)\n",
    "    if r2_train > max_r2:\n",
    "        max_r2 = r2_train\n",
    "    \n",
    "    # MSE\n",
    "    mse_train = np.round(mt.mean_squared_error(y_train, yhat_train), 3)\n",
    "    mse_list.append(mse_train)\n",
    "    if mse_train < min_mse:\n",
    "        min_mse = mse_train\n",
    "\n",
    "    # RMSE\n",
    "    rmse_train = np.round(np.sqrt(mse_train), 3)\n",
    "    if rmse_train < min_rmse:\n",
    "        min_rmse = rmse_train\n",
    "    \n",
    "    # MAE\n",
    "    mae_train = np.round(mt.mean_absolute_error(y_train, yhat_train), 3)\n",
    "    if mae_train < min_mae:\n",
    "        min_mae = mae_train\n",
    "   \n",
    "    # MAPE\n",
    "    mape_train = np.round(mt.mean_absolute_percentage_error(y_train, yhat_train), 3)\n",
    "    if mape_train < min_mape:\n",
    "        min_mape = mape_train\n",
    "    \n",
    "\n",
    "print(f'Max R2: {max_r2}')\n",
    "print(f'Min MSE: {min_mse}')\n",
    "print(f'Min RMSE: {min_rmse}')\n",
    "print(f'Min MAE: {min_mae}')\n",
    "print(f'Min MAPE: {min_mape}')"
   ]
  },
  {
   "cell_type": "markdown",
   "metadata": {},
   "source": [
    "### Validation"
   ]
  },
  {
   "cell_type": "code",
   "execution_count": 11,
   "metadata": {},
   "outputs": [
    {
     "name": "stdout",
     "output_type": "stream",
     "text": [
      "R2: -0.29\n",
      "MSE: 615.935\n",
      "RMSE: 24.818\n",
      "MAE: 17.163\n",
      "MAPE: 6.942\n"
     ]
    }
   ],
   "source": [
    "# Best parameters retraining with validation data\n",
    "best_m = mse_list.index( min ( mse_list ) )\n",
    "\n",
    "# Define\n",
    "model = tr.DecisionTreeRegressor(max_depth=m[best_m])\n",
    "\n",
    "# Fit\n",
    "model.fit(X_train, y_train)\n",
    "\n",
    "# Predict\n",
    "yhat_val = model.predict(X_val)\n",
    "\n",
    "# R²\n",
    "r2_val = np.round(mt.r2_score(y_val, yhat_val), 3)\n",
    "\n",
    "# MSE\n",
    "mse_val = np.round(mt.mean_squared_error(y_val, yhat_val), 3)\n",
    "\n",
    "# RMSE\n",
    "rmse_val = np.round(np.sqrt(mse_val), 3)\n",
    "\n",
    "# MAE\n",
    "mae_val = np.round(mt.mean_absolute_error(y_val, yhat_val), 3)\n",
    "\n",
    "# MAPE\n",
    "mape_val = np.round(mt.mean_absolute_percentage_error(y_val, yhat_val), 3)\n",
    "    \n",
    "\n",
    "print(f'R2: {r2_val}')\n",
    "print(f'MSE: {mse_val}')\n",
    "print(f'RMSE: {rmse_val}')\n",
    "print(f'MAE: {mae_val}')\n",
    "print(f'MAPE: {mape_val}')"
   ]
  },
  {
   "cell_type": "markdown",
   "metadata": {},
   "source": [
    "### Test"
   ]
  },
  {
   "cell_type": "code",
   "execution_count": 10,
   "metadata": {},
   "outputs": [
    {
     "name": "stdout",
     "output_type": "stream",
     "text": [
      "R2: -0.163\n",
      "MSE: 566.18\n",
      "RMSE: 23.795\n",
      "MAE: 15.77\n",
      "MAPE: 6.02\n"
     ]
    },
    {
     "name": "stderr",
     "output_type": "stream",
     "text": [
      "c:\\Users\\Felipe\\AppData\\Local\\Programs\\Python\\Python311\\Lib\\site-packages\\sklearn\\base.py:486: UserWarning: X has feature names, but DecisionTreeRegressor was fitted without feature names\n",
      "  warnings.warn(\n"
     ]
    }
   ],
   "source": [
    "# Best parameters retraining with validation data\n",
    "best_m = mse_list.index( min ( mse_list ) )\n",
    "\n",
    "# Define\n",
    "model = tr.DecisionTreeRegressor(max_depth=m[best_m])\n",
    "\n",
    "# Fit\n",
    "model.fit(np.concatenate( (X_train, X_val)),\n",
    "          np.concatenate( (y_train, y_val)))\n",
    "\n",
    "# Predict\n",
    "y_pred = model.predict(X_test)\n",
    "\n",
    "# R²\n",
    "r2_test = np.round(mt.r2_score(y_test, y_pred), 3)\n",
    "\n",
    "# MSE\n",
    "mse_test = np.round(mt.mean_squared_error(y_test, y_pred), 3)\n",
    "\n",
    "# RMSE\n",
    "rmse_test = np.round(np.sqrt(mse_test), 3)\n",
    "\n",
    "# MAE\n",
    "mae_test = np.round(mt.mean_absolute_error(y_test, y_pred), 3)\n",
    "\n",
    "# MAPE\n",
    "mape_test = np.round(mt.mean_absolute_percentage_error(y_test, y_pred), 3)\n",
    "    \n",
    "\n",
    "print(f'R2: {r2_test}')\n",
    "print(f'MSE: {mse_test}')\n",
    "print(f'RMSE: {rmse_test}')\n",
    "print(f'MAE: {mae_test}')\n",
    "print(f'MAPE: {mape_test}')"
   ]
  },
  {
   "cell_type": "code",
   "execution_count": 18,
   "metadata": {},
   "outputs": [
    {
     "data": {
      "text/html": [
       "<div>\n",
       "<style scoped>\n",
       "    .dataframe tbody tr th:only-of-type {\n",
       "        vertical-align: middle;\n",
       "    }\n",
       "\n",
       "    .dataframe tbody tr th {\n",
       "        vertical-align: top;\n",
       "    }\n",
       "\n",
       "    .dataframe thead th {\n",
       "        text-align: right;\n",
       "    }\n",
       "</style>\n",
       "<table border=\"1\" class=\"dataframe\">\n",
       "  <thead>\n",
       "    <tr style=\"text-align: right;\">\n",
       "      <th></th>\n",
       "      <th>index</th>\n",
       "      <th>R2 train</th>\n",
       "      <th>R2 val</th>\n",
       "      <th>R2 test</th>\n",
       "    </tr>\n",
       "  </thead>\n",
       "  <tbody>\n",
       "    <tr>\n",
       "      <th>0</th>\n",
       "      <td>0</td>\n",
       "      <td>0.992</td>\n",
       "      <td>-0.29</td>\n",
       "      <td>-0.163</td>\n",
       "    </tr>\n",
       "  </tbody>\n",
       "</table>\n",
       "</div>"
      ],
      "text/plain": [
       "   index  R2 train  R2 val  R2 test\n",
       "0      0     0.992   -0.29   -0.163"
      ]
     },
     "execution_count": 18,
     "metadata": {},
     "output_type": "execute_result"
    }
   ],
   "source": [
    "index =[0]\n",
    "r2_results = {'index': index,\n",
    "              'R2 train': max_r2,\n",
    "              'R2 val': r2_val,\n",
    "              'R2 test': r2_test,\n",
    "          }\n",
    "r2_dataframe = pd.DataFrame(r2_results)\n",
    "r2_dataframe"
   ]
  },
  {
   "cell_type": "code",
   "execution_count": 19,
   "metadata": {},
   "outputs": [
    {
     "data": {
      "text/html": [
       "<div>\n",
       "<style scoped>\n",
       "    .dataframe tbody tr th:only-of-type {\n",
       "        vertical-align: middle;\n",
       "    }\n",
       "\n",
       "    .dataframe tbody tr th {\n",
       "        vertical-align: top;\n",
       "    }\n",
       "\n",
       "    .dataframe thead th {\n",
       "        text-align: right;\n",
       "    }\n",
       "</style>\n",
       "<table border=\"1\" class=\"dataframe\">\n",
       "  <thead>\n",
       "    <tr style=\"text-align: right;\">\n",
       "      <th></th>\n",
       "      <th>index</th>\n",
       "      <th>MSE train</th>\n",
       "      <th>MSE val</th>\n",
       "      <th>MSE test</th>\n",
       "    </tr>\n",
       "  </thead>\n",
       "  <tbody>\n",
       "    <tr>\n",
       "      <th>0</th>\n",
       "      <td>0</td>\n",
       "      <td>3.94</td>\n",
       "      <td>615.935</td>\n",
       "      <td>566.18</td>\n",
       "    </tr>\n",
       "  </tbody>\n",
       "</table>\n",
       "</div>"
      ],
      "text/plain": [
       "   index  MSE train  MSE val  MSE test\n",
       "0      0       3.94  615.935    566.18"
      ]
     },
     "execution_count": 19,
     "metadata": {},
     "output_type": "execute_result"
    }
   ],
   "source": [
    "index =[0]\n",
    "mse_results = {'index': index,\n",
    "               'MSE train': min_mse,\n",
    "               'MSE val': mse_val,\n",
    "               'MSE test': mse_test, \n",
    "           }\n",
    "mse_dataframe = pd.DataFrame(mse_results)\n",
    "mse_dataframe"
   ]
  },
  {
   "cell_type": "code",
   "execution_count": 20,
   "metadata": {},
   "outputs": [
    {
     "data": {
      "text/html": [
       "<div>\n",
       "<style scoped>\n",
       "    .dataframe tbody tr th:only-of-type {\n",
       "        vertical-align: middle;\n",
       "    }\n",
       "\n",
       "    .dataframe tbody tr th {\n",
       "        vertical-align: top;\n",
       "    }\n",
       "\n",
       "    .dataframe thead th {\n",
       "        text-align: right;\n",
       "    }\n",
       "</style>\n",
       "<table border=\"1\" class=\"dataframe\">\n",
       "  <thead>\n",
       "    <tr style=\"text-align: right;\">\n",
       "      <th></th>\n",
       "      <th>index</th>\n",
       "      <th>RMSE train</th>\n",
       "      <th>RMSE val</th>\n",
       "      <th>RMSE test</th>\n",
       "    </tr>\n",
       "  </thead>\n",
       "  <tbody>\n",
       "    <tr>\n",
       "      <th>0</th>\n",
       "      <td>0</td>\n",
       "      <td>1.985</td>\n",
       "      <td>24.818</td>\n",
       "      <td>23.795</td>\n",
       "    </tr>\n",
       "  </tbody>\n",
       "</table>\n",
       "</div>"
      ],
      "text/plain": [
       "   index  RMSE train  RMSE val  RMSE test\n",
       "0      0       1.985    24.818     23.795"
      ]
     },
     "execution_count": 20,
     "metadata": {},
     "output_type": "execute_result"
    }
   ],
   "source": [
    "index =[0]\n",
    "rmse_results = {'index': index,\n",
    "                'RMSE train': min_rmse,\n",
    "                'RMSE val': rmse_val,\n",
    "                'RMSE test': rmse_test,\n",
    "           }\n",
    "rmse_dataframe = pd.DataFrame(rmse_results)\n",
    "rmse_dataframe"
   ]
  },
  {
   "cell_type": "code",
   "execution_count": 21,
   "metadata": {},
   "outputs": [
    {
     "data": {
      "text/html": [
       "<div>\n",
       "<style scoped>\n",
       "    .dataframe tbody tr th:only-of-type {\n",
       "        vertical-align: middle;\n",
       "    }\n",
       "\n",
       "    .dataframe tbody tr th {\n",
       "        vertical-align: top;\n",
       "    }\n",
       "\n",
       "    .dataframe thead th {\n",
       "        text-align: right;\n",
       "    }\n",
       "</style>\n",
       "<table border=\"1\" class=\"dataframe\">\n",
       "  <thead>\n",
       "    <tr style=\"text-align: right;\">\n",
       "      <th></th>\n",
       "      <th>index</th>\n",
       "      <th>MAE train</th>\n",
       "      <th>MAE val</th>\n",
       "      <th>MAE test</th>\n",
       "    </tr>\n",
       "  </thead>\n",
       "  <tbody>\n",
       "    <tr>\n",
       "      <th>0</th>\n",
       "      <td>0</td>\n",
       "      <td>0.214</td>\n",
       "      <td>17.163</td>\n",
       "      <td>15.77</td>\n",
       "    </tr>\n",
       "  </tbody>\n",
       "</table>\n",
       "</div>"
      ],
      "text/plain": [
       "   index  MAE train  MAE val  MAE test\n",
       "0      0      0.214   17.163     15.77"
      ]
     },
     "execution_count": 21,
     "metadata": {},
     "output_type": "execute_result"
    }
   ],
   "source": [
    "index =[0]\n",
    "mae_results = {'index': index,\n",
    "               'MAE train': min_mae,\n",
    "               'MAE val': mae_val,\n",
    "               'MAE test': mae_test,\n",
    "           }\n",
    "mae_dataframe = pd.DataFrame(mae_results)\n",
    "mae_dataframe"
   ]
  },
  {
   "cell_type": "code",
   "execution_count": 22,
   "metadata": {},
   "outputs": [
    {
     "data": {
      "text/html": [
       "<div>\n",
       "<style scoped>\n",
       "    .dataframe tbody tr th:only-of-type {\n",
       "        vertical-align: middle;\n",
       "    }\n",
       "\n",
       "    .dataframe tbody tr th {\n",
       "        vertical-align: top;\n",
       "    }\n",
       "\n",
       "    .dataframe thead th {\n",
       "        text-align: right;\n",
       "    }\n",
       "</style>\n",
       "<table border=\"1\" class=\"dataframe\">\n",
       "  <thead>\n",
       "    <tr style=\"text-align: right;\">\n",
       "      <th></th>\n",
       "      <th>index</th>\n",
       "      <th>MAPE train</th>\n",
       "      <th>MAPE val</th>\n",
       "      <th>MAPE test</th>\n",
       "    </tr>\n",
       "  </thead>\n",
       "  <tbody>\n",
       "    <tr>\n",
       "      <th>0</th>\n",
       "      <td>0</td>\n",
       "      <td>0.083</td>\n",
       "      <td>6.942</td>\n",
       "      <td>6.02</td>\n",
       "    </tr>\n",
       "  </tbody>\n",
       "</table>\n",
       "</div>"
      ],
      "text/plain": [
       "   index  MAPE train  MAPE val  MAPE test\n",
       "0      0       0.083     6.942       6.02"
      ]
     },
     "execution_count": 22,
     "metadata": {},
     "output_type": "execute_result"
    }
   ],
   "source": [
    "index =[0]\n",
    "mape_results = {'index': index,\n",
    "                'MAPE train': min_mape,\n",
    "                'MAPE val': mape_val,\n",
    "                'MAPE test': mape_test}\n",
    "mape_dataframe = pd.DataFrame(mape_results)\n",
    "mape_dataframe"
   ]
  }
 ],
 "metadata": {
  "kernelspec": {
   "display_name": "Python 3",
   "language": "python",
   "name": "python3"
  },
  "language_info": {
   "codemirror_mode": {
    "name": "ipython",
    "version": 3
   },
   "file_extension": ".py",
   "mimetype": "text/x-python",
   "name": "python",
   "nbconvert_exporter": "python",
   "pygments_lexer": "ipython3",
   "version": "3.11.4"
  }
 },
 "nbformat": 4,
 "nbformat_minor": 2
}
