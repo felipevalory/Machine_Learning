{
 "cells": [
  {
   "cell_type": "markdown",
   "metadata": {},
   "source": [
    "# Random Forest Regressor"
   ]
  },
  {
   "cell_type": "markdown",
   "metadata": {},
   "source": [
    "### Import Libraries"
   ]
  },
  {
   "cell_type": "code",
   "execution_count": 2,
   "metadata": {},
   "outputs": [],
   "source": [
    "import pandas as pd\n",
    "import numpy  as np\n",
    "\n",
    "from sklearn import metrics as mt\n",
    "from sklearn import ensemble as en"
   ]
  },
  {
   "cell_type": "markdown",
   "metadata": {},
   "source": [
    "### Load Dataset"
   ]
  },
  {
   "cell_type": "code",
   "execution_count": 3,
   "metadata": {},
   "outputs": [],
   "source": [
    "X_train = pd.read_csv('Training/X_training.csv')\n",
    "y_train = pd.read_csv('Training/y_training.csv')\n",
    "X_val = pd.read_csv('Validation/X_val.csv')\n",
    "y_val = pd.read_csv('Validation/y_val.csv')\n",
    "X_test = pd.read_csv('Test/X_test.csv')\n",
    "y_test = pd.read_csv('Test/y_test.csv')"
   ]
  },
  {
   "cell_type": "code",
   "execution_count": 4,
   "metadata": {},
   "outputs": [],
   "source": [
    "y_train = y_train.values.ravel()\n",
    "y_val = y_val.values.ravel()"
   ]
  },
  {
   "cell_type": "markdown",
   "metadata": {},
   "source": [
    "### Model Training"
   ]
  },
  {
   "cell_type": "code",
   "execution_count": 5,
   "metadata": {},
   "outputs": [
    {
     "name": "stdout",
     "output_type": "stream",
     "text": [
      "Max R2: 0.8995249014702715\n",
      "Min MSE: 48.02835906241995\n",
      "Min RMSE: 6.930249567109395\n",
      "Min MAE: 4.918861317542759\n",
      "Min MAPE: 2.538294491101316\n"
     ]
    }
   ],
   "source": [
    "m = np.arange( 1, 41, 1)\n",
    "mse_list = []\n",
    "max_r2 = 0\n",
    "min_mse = float('inf')\n",
    "min_rmse = float('inf')\n",
    "min_mae = float('inf')\n",
    "min_mape = float('inf')\n",
    "\n",
    "for i in m:\n",
    "    # Define\n",
    "    model = en.RandomForestRegressor(max_depth=i, n_estimators=50)\n",
    "\n",
    "    # Fit\n",
    "    model.fit(X_train, y_train)\n",
    "\n",
    "    # Precidt\n",
    "    yhat_train = model.predict(X_train)\n",
    "\n",
    "    r2 = mt.r2_score(y_train, yhat_train)\n",
    "    if r2 > max_r2:\n",
    "        max_r2 = r2\n",
    "    \n",
    "    mse = mt.mean_squared_error(y_train, yhat_train)\n",
    "    mse_list.append( mse )\n",
    "    if mse < min_mse:\n",
    "        min_mse = mse\n",
    "\n",
    "    rmse = np.sqrt(mse)\n",
    "    if rmse < min_rmse:\n",
    "        min_rmse = rmse\n",
    "    \n",
    "    mae = mt.mean_absolute_error(y_train, yhat_train)\n",
    "    if mae < min_mae:\n",
    "        min_mae = mae    \n",
    "\n",
    "    mape = mt.mean_absolute_percentage_error(y_train, yhat_train)\n",
    "    if mape < min_mape:\n",
    "        min_mape = mape\n",
    "   \n",
    "\n",
    "print(f'Max R2: {max_r2}\\n'\n",
    "      f'Min MSE: {min_mse}\\n'\n",
    "      f'Min RMSE: {min_rmse}\\n'\n",
    "      f'Min MAE: {min_mae}\\n'\n",
    "      f'Min MAPE: {min_mape}')"
   ]
  },
  {
   "cell_type": "markdown",
   "metadata": {},
   "source": [
    "### Validation"
   ]
  },
  {
   "cell_type": "code",
   "execution_count": 9,
   "metadata": {},
   "outputs": [
    {
     "name": "stdout",
     "output_type": "stream",
     "text": [
      "R2: 0.32392991961979134\n",
      "MSE: 322.8313138779214\n",
      "RMSE: 17.967507169274246\n",
      "MAE: 13.088959430009396\n",
      "MAPE: 7.025925844193222\n"
     ]
    }
   ],
   "source": [
    "# The best parameters retraining with validation data\n",
    "best_m = mse_list.index( min ( mse_list ) )\n",
    "\n",
    "# Define\n",
    "model = en.RandomForestRegressor(max_depth=m[best_m], n_estimators=50)\n",
    "\n",
    "# Fit\n",
    "model.fit(X_train, y_train)\n",
    "\n",
    "# Precidt\n",
    "yhat_val = model.predict(X_val)\n",
    "\n",
    "r2 = mt.r2_score(y_val, yhat_val)\n",
    "\n",
    "mse = mt.mean_squared_error(y_val, yhat_val)\n",
    "\n",
    "rmse = np.sqrt(mse)\n",
    "\n",
    "mae = mt.mean_absolute_error(y_val, yhat_val)   \n",
    "\n",
    "mape = mt.mean_absolute_percentage_error(y_val, yhat_val)   \n",
    "\n",
    "print(f'R2: {r2}\\n'\n",
    "      f'MSE: {mse}\\n'\n",
    "      f'RMSE: {rmse}\\n'\n",
    "      f'MAE: {mae}\\n'\n",
    "      f'MAPE: {mape}')"
   ]
  },
  {
   "cell_type": "markdown",
   "metadata": {},
   "source": [
    "### Test"
   ]
  },
  {
   "cell_type": "code",
   "execution_count": 8,
   "metadata": {},
   "outputs": [
    {
     "name": "stdout",
     "output_type": "stream",
     "text": [
      "R2: 0.3980213881962088\n",
      "MSE: 293.10397355042846\n",
      "RMSE: 17.120279599072806\n",
      "MAE: 12.291762019991143\n",
      "MAPE: 6.292061873043673\n"
     ]
    },
    {
     "name": "stderr",
     "output_type": "stream",
     "text": [
      "c:\\Users\\Felipe\\AppData\\Local\\Programs\\Python\\Python311\\Lib\\site-packages\\sklearn\\base.py:486: UserWarning: X has feature names, but RandomForestRegressor was fitted without feature names\n",
      "  warnings.warn(\n"
     ]
    }
   ],
   "source": [
    "# The best parameters retraining with test data\n",
    "best_m = mse_list.index( min ( mse_list ) )\n",
    "\n",
    "# Define\n",
    "model = en.RandomForestRegressor(max_depth=m[best_m], n_estimators=50)\n",
    "\n",
    "# Fit\n",
    "model.fit( np.concatenate( ( X_train, X_val ) ),\n",
    "           np.concatenate( ( y_train, y_val ) ) )\n",
    "\n",
    "# Precidt\n",
    "y_pred = model.predict(X_test)\n",
    "\n",
    "r2 = mt.r2_score(y_test, y_pred)\n",
    "\n",
    "mse = mt.mean_squared_error(y_test, y_pred)\n",
    "\n",
    "rmse = np.sqrt(mse)\n",
    "\n",
    "mae = mt.mean_absolute_error(y_test, y_pred)   \n",
    "\n",
    "mape = mt.mean_absolute_percentage_error(y_test, y_pred)   \n",
    "\n",
    "print(f'R2: {r2}\\n'\n",
    "      f'MSE: {mse}\\n'\n",
    "      f'RMSE: {rmse}\\n'\n",
    "      f'MAE: {mae}\\n'\n",
    "      f'MAPE: {mape}')"
   ]
  }
 ],
 "metadata": {
  "kernelspec": {
   "display_name": "Python 3",
   "language": "python",
   "name": "python3"
  },
  "language_info": {
   "codemirror_mode": {
    "name": "ipython",
    "version": 3
   },
   "file_extension": ".py",
   "mimetype": "text/x-python",
   "name": "python",
   "nbconvert_exporter": "python",
   "pygments_lexer": "ipython3",
   "version": "3.11.4"
  }
 },
 "nbformat": 4,
 "nbformat_minor": 2
}
