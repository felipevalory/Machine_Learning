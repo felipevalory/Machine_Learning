{
 "cells": [
  {
   "cell_type": "markdown",
   "metadata": {},
   "source": [
    "# Polynomial Regression"
   ]
  },
  {
   "cell_type": "markdown",
   "metadata": {},
   "source": [
    "### Import Libraries"
   ]
  },
  {
   "cell_type": "code",
   "execution_count": 1,
   "metadata": {},
   "outputs": [],
   "source": [
    "import pandas as pd\n",
    "import numpy  as np\n",
    "\n",
    "from sklearn import metrics       as mt\n",
    "from sklearn import preprocessing as pp\n",
    "from sklearn import linear_model  as lm"
   ]
  },
  {
   "cell_type": "markdown",
   "metadata": {},
   "source": [
    "### Load Dataset"
   ]
  },
  {
   "cell_type": "code",
   "execution_count": 2,
   "metadata": {},
   "outputs": [],
   "source": [
    "X_train = pd.read_csv('Training/X_training.csv')\n",
    "y_train = pd.read_csv('Training/y_training.csv')\n",
    "X_val = pd.read_csv('Validation/X_val.csv')\n",
    "y_val = pd.read_csv('Validation/y_val.csv')\n",
    "X_test = pd.read_csv('Test/X_test.csv')\n",
    "y_test = pd.read_csv('Test/y_test.csv')"
   ]
  },
  {
   "cell_type": "code",
   "execution_count": 3,
   "metadata": {},
   "outputs": [
    {
     "name": "stdout",
     "output_type": "stream",
     "text": [
      "Max R2: 0.334\n",
      "Min MSE: 318.377\n",
      "Min RMSE: 17.843\n",
      "Min MAE: 13.614\n",
      "Min MAPE: 5.913\n"
     ]
    }
   ],
   "source": [
    "d = np.arange(1, 5)\n",
    "rmse_list = []\n",
    "max_r2 = 0\n",
    "min_mse = float('inf')\n",
    "min_rmse = float('inf')\n",
    "min_mae = float('inf')\n",
    "min_mape = float('inf')\n",
    "\n",
    "for i in d:\n",
    "    # Define\n",
    "    poly = pp.PolynomialFeatures(degree=i)\n",
    "    X_poly_train = poly.fit_transform(X_train)\n",
    "\n",
    "    # Training\n",
    "    model = lm.LinearRegression()\n",
    "    model.fit(X_poly_train, y_train)\n",
    "\n",
    "    # Predict\n",
    "    yhat_train = model.predict(X_poly_train)\n",
    "\n",
    "    r2 = mt.r2_score(y_train, yhat_train)\n",
    "    if r2 > max_r2:\n",
    "        max_r2 = r2    \n",
    "\n",
    "    mse = mt.mean_squared_error(y_train, yhat_train)\n",
    "    if mse < min_mse:\n",
    "        min_mse = mse    \n",
    "\n",
    "    rmse = np.sqrt(mse)\n",
    "    rmse_list.append(rmse)\n",
    "    if rmse < min_rmse:\n",
    "        min_rmse = rmse    \n",
    "\n",
    "    mae = mt.mean_absolute_error(y_train, yhat_train)\n",
    "    if mae < min_mae:\n",
    "        min_mae = mae    \n",
    "\n",
    "    mape = mt.mean_absolute_percentage_error(y_train, yhat_train)\n",
    "    if mape < min_mape:\n",
    "        min_mape = mape\n",
    "\n",
    "print(f'Max R2: {max_r2:.3f}')\n",
    "print(f'Min MSE: {min_mse:.3f}')\n",
    "print(f'Min RMSE: {min_rmse:.3f}')\n",
    "print(f'Min MAE: {min_mae:.3f}')\n",
    "print(f'Min MAPE: {min_mape:.3f}')    "
   ]
  },
  {
   "cell_type": "markdown",
   "metadata": {},
   "source": [
    "### Validation"
   ]
  },
  {
   "cell_type": "code",
   "execution_count": 4,
   "metadata": {},
   "outputs": [
    {
     "name": "stdout",
     "output_type": "stream",
     "text": [
      "Degreee: 1\n",
      "R2: 0.040\n",
      "MSE: 458.447\n",
      "RMSE: 21.411\n",
      "MAE: 17.040\n",
      "MAPE: 8.683\n",
      "Degreee: 2\n",
      "R2: 0.066\n",
      "MSE: 445.768\n",
      "RMSE: 21.113\n",
      "MAE: 16.750\n",
      "MAPE: 8.548\n",
      "Degreee: 3\n",
      "R2: -0.048\n",
      "MSE: 500.326\n",
      "RMSE: 22.368\n",
      "MAE: 17.087\n",
      "MAPE: 8.678\n",
      "Degreee: 4\n",
      "R2: -102.924\n",
      "MSE: 49624.741\n",
      "RMSE: 222.766\n",
      "MAE: 36.104\n",
      "MAPE: 10.185\n"
     ]
    }
   ],
   "source": [
    "d = np.arange(1, 5)\n",
    "\n",
    "for i in d:\n",
    "    # Define\n",
    "    poly = pp.PolynomialFeatures(degree=i)\n",
    "    X_poly_train = poly.fit_transform(X_train)\n",
    "    X_poly_val = poly.fit_transform(X_val)\n",
    "\n",
    "    # Training\n",
    "    model = lm.LinearRegression()\n",
    "    model.fit(X_poly_train, y_train)\n",
    "\n",
    "    # Predict\n",
    "    yhat_val = model.predict(X_poly_val)\n",
    "\n",
    "    r2 = mt.r2_score(y_val, yhat_val)  \n",
    "\n",
    "    mse = mt.mean_squared_error(y_val, yhat_val)   \n",
    "\n",
    "    rmse = np.sqrt(mse)  \n",
    "\n",
    "    mae = mt.mean_absolute_error(y_val, yhat_val)  \n",
    "\n",
    "    mape = mt.mean_absolute_percentage_error(y_val, yhat_val)\n",
    "\n",
    "    print(f'Degreee: {i}\\n'\n",
    "          f'R2: {r2:.3f}\\n'\n",
    "          f'MSE: {mse:.3f}\\n'\n",
    "          f'RMSE: {rmse:.3f}\\n'\n",
    "          f'MAE: {mae:.3f}\\n'\n",
    "          f'MAPE: {mape:.3f}\\n'\n",
    "          )  \n",
    "\n"
   ]
  },
  {
   "cell_type": "markdown",
   "metadata": {},
   "source": [
    "### Test"
   ]
  },
  {
   "cell_type": "code",
   "execution_count": 5,
   "metadata": {},
   "outputs": [
    {
     "name": "stdout",
     "output_type": "stream",
     "text": [
      "Degreee: 1\n",
      "R2: 0.051\n",
      "MSE: 461.988\n",
      "RMSE: 21.494\n",
      "MAE: 17.144\n",
      "MAPE: 8.531\n",
      "\n",
      "Degreee: 2\n",
      "R2: 0.091\n",
      "MSE: 442.641\n",
      "RMSE: 21.039\n",
      "MAE: 16.736\n",
      "MAPE: 8.277\n",
      "\n",
      "Degreee: 3\n",
      "R2: 0.021\n",
      "MSE: 476.492\n",
      "RMSE: 21.829\n",
      "MAE: 16.858\n",
      "MAPE: 7.976\n",
      "\n",
      "Degreee: 4\n",
      "R2: -124.595\n",
      "MSE: 61152.314\n",
      "RMSE: 247.290\n",
      "MAE: 23.394\n",
      "MAPE: 7.845\n",
      "\n"
     ]
    }
   ],
   "source": [
    "d = np.arange(1, 5)\n",
    "\n",
    "for i in d:\n",
    "    # Define\n",
    "    poly = pp.PolynomialFeatures(degree=i)\n",
    "    X_poly_train = poly.fit_transform(X_train)\n",
    "    X_poly_val = poly.fit_transform(X_val)\n",
    "    X_poly_test = poly.fit_transform(X_test)\n",
    "\n",
    "    # Training\n",
    "    model = lm.LinearRegression()\n",
    "    model.fit( np.concatenate( ( X_poly_train, X_poly_val ) ),\n",
    "               np.concatenate( ( y_train, y_val ) ) )\n",
    "\n",
    "    # Predict\n",
    "    y_pred = model.predict(X_poly_test)\n",
    "\n",
    "    r2 = mt.r2_score(y_test, y_pred)  \n",
    "\n",
    "    mse = mt.mean_squared_error(y_test, y_pred)   \n",
    "\n",
    "    rmse = np.sqrt(mse)  \n",
    "\n",
    "    mae = mt.mean_absolute_error(y_test, y_pred)  \n",
    "\n",
    "    mape = mt.mean_absolute_percentage_error(y_test, y_pred)\n",
    "\n",
    "    print(f'Degreee: {i}\\n'\n",
    "          f'R2: {r2:.3f}\\n'\n",
    "          f'MSE: {mse:.3f}\\n'\n",
    "          f'RMSE: {rmse:.3f}\\n'\n",
    "          f'MAE: {mae:.3f}\\n'\n",
    "          f'MAPE: {mape:.3f}\\n'\n",
    "          )"
   ]
  }
 ],
 "metadata": {
  "kernelspec": {
   "display_name": "Python 3",
   "language": "python",
   "name": "python3"
  },
  "language_info": {
   "codemirror_mode": {
    "name": "ipython",
    "version": 3
   },
   "file_extension": ".py",
   "mimetype": "text/x-python",
   "name": "python",
   "nbconvert_exporter": "python",
   "pygments_lexer": "ipython3",
   "version": "3.11.4"
  }
 },
 "nbformat": 4,
 "nbformat_minor": 2
}
