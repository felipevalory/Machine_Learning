{
 "cells": [
  {
   "cell_type": "markdown",
   "metadata": {},
   "source": [
    "# Polynomial Regression - Elastic Net"
   ]
  },
  {
   "cell_type": "markdown",
   "metadata": {},
   "source": [
    "### Import Libraries"
   ]
  },
  {
   "cell_type": "code",
   "execution_count": 1,
   "metadata": {},
   "outputs": [],
   "source": [
    "import pandas as pd\n",
    "import numpy  as np\n",
    "\n",
    "from sklearn import metrics       as mt\n",
    "from sklearn import preprocessing as pp\n",
    "from sklearn import linear_model  as lm"
   ]
  },
  {
   "cell_type": "markdown",
   "metadata": {},
   "source": [
    "### Load Dataset"
   ]
  },
  {
   "cell_type": "code",
   "execution_count": 2,
   "metadata": {},
   "outputs": [],
   "source": [
    "X_train = pd.read_csv('Training/X_training.csv')\n",
    "y_train = pd.read_csv('Training/y_training.csv')\n",
    "X_val = pd.read_csv('Validation/X_val.csv')\n",
    "y_val = pd.read_csv('Validation/y_val.csv')\n",
    "X_test = pd.read_csv('Test/X_test.csv')\n",
    "y_test = pd.read_csv('Test/y_test.csv')"
   ]
  },
  {
   "cell_type": "code",
   "execution_count": 3,
   "metadata": {},
   "outputs": [
    {
     "name": "stdout",
     "output_type": "stream",
     "text": [
      "Degree: 3\n",
      "Alpha: 4\n",
      "Max R2: 0.018\n",
      "Min MSE: 469.323\n",
      "Min RMSE: 21.664\n",
      "Min MAE: 17.187\n",
      "Min MAPE: 8.607\n"
     ]
    }
   ],
   "source": [
    "d = np.arange( 1, 4)\n",
    "a = np.arange( 1, 5)\n",
    "#l1_ratios = np.arange(0.1, 1.0, 0.1)\n",
    "rmse_list = []\n",
    "max_r2 = 0\n",
    "min_mse = float('inf')\n",
    "min_rmse = float('inf')\n",
    "min_mae = float('inf')\n",
    "min_mape = float('inf')\n",
    "\n",
    "for i in d:\n",
    "    for alpha in a:\n",
    "        \n",
    "        # Define\n",
    "        poly = pp.PolynomialFeatures(degree=i)\n",
    "        X_poly_train = poly.fit_transform(X_train)\n",
    "\n",
    "        # Training\n",
    "        model = lm.ElasticNet(alpha=alpha, max_iter=1000)\n",
    "        model.fit(X_poly_train, y_train)\n",
    "\n",
    "        # Predict\n",
    "        yhat_train = model.predict(X_poly_train)\n",
    "\n",
    "        r2 = mt.r2_score(y_train, yhat_train)\n",
    "        if r2 > max_r2:\n",
    "            max_r2 = r2    \n",
    "\n",
    "        mse = mt.mean_squared_error(y_train, yhat_train)\n",
    "        if mse < min_mse:\n",
    "            min_mse = mse    \n",
    "\n",
    "        rmse = np.sqrt(mse)\n",
    "        rmse_list.append(rmse)\n",
    "        if rmse < min_rmse:\n",
    "            min_rmse = rmse    \n",
    "\n",
    "        mae = mt.mean_absolute_error(y_train, yhat_train)\n",
    "        if mae < min_mae:\n",
    "            min_mae = mae    \n",
    "\n",
    "        mape = mt.mean_absolute_percentage_error(y_train, yhat_train)\n",
    "        if mape < min_mape:\n",
    "            min_mape = mape\n",
    "\n",
    "print(f'Degree: {i}')\n",
    "print(f'Alpha: {alpha}')\n",
    "print(f'Max R2: {max_r2:.3f}')\n",
    "print(f'Min MSE: {min_mse:.3f}')\n",
    "print(f'Min RMSE: {min_rmse:.3f}')\n",
    "print(f'Min MAE: {min_mae:.3f}')\n",
    "print(f'Min MAPE: {min_mape:.3f}')    "
   ]
  },
  {
   "cell_type": "markdown",
   "metadata": {},
   "source": [
    "### Validation"
   ]
  },
  {
   "cell_type": "code",
   "execution_count": 7,
   "metadata": {},
   "outputs": [
    {
     "name": "stdout",
     "output_type": "stream",
     "text": [
      "Degreee: 3\n",
      "Alpha: 19\n",
      "R2: 0.014\n",
      "MSE: 470.756\n",
      "RMSE: 21.697\n",
      "MAE: 17.181\n",
      "MAPE: 8.656\n",
      "\n"
     ]
    }
   ],
   "source": [
    "d = np.arange( 1, 4)\n",
    "a = np.arange( 1, 5)\n",
    "l1_ratios = np.arange(0.1, 1.0, 0.1)\n",
    "rmse_list = []\n",
    "max_r2 = 0\n",
    "min_mse = float('inf')\n",
    "min_rmse = float('inf')\n",
    "min_mae = float('inf')\n",
    "min_mape = float('inf')\n",
    "best_degree = 0\n",
    "best_alpha = 0\n",
    "best_l1_ratio = 0\n",
    "\n",
    "for i in d:\n",
    "    for alpha in a:\n",
    "      for l1 in l1_ratios:\n",
    "         poly = pp.PolynomialFeatures(degree=i)\n",
    "         X_poly_train = poly.fit_transform(X_train)\n",
    "         X_poly_val = poly.fit_transform(X_val)\n",
    "\n",
    "         # Training\n",
    "         model = lm.ElasticNet(alpha=alpha, l1_ratio=l1, max_iter=1000)\n",
    "         model.fit(X_poly_train, y_train)\n",
    "\n",
    "         # Predict\n",
    "         yhat_val = model.predict(X_poly_val)\n",
    "\n",
    "         r2 = mt.r2_score(y_val, yhat_val)\n",
    "         if r2 > max_r2:\n",
    "            max_r2 = r2\n",
    "            best_degree = i\n",
    "            best_alpha = alpha\n",
    "            best_l1_ratio = l1\n",
    "\n",
    "         mse = mt.mean_squared_error(y_val, yhat_val)\n",
    "         if mse < min_mse:\n",
    "            min_mse = mse   \n",
    "\n",
    "         rmse = np.sqrt(mse)\n",
    "         rmse_list.append( rmse )\n",
    "         if rmse < min_rmse:\n",
    "            min_rmse = rmse\n",
    "\n",
    "         mae = mt.mean_absolute_error(y_val, yhat_val)\n",
    "         if mae < min_mae:\n",
    "            min_mae = mae \n",
    "\n",
    "         mape = mt.mean_absolute_percentage_error(y_val, yhat_val)\n",
    "         if mape < min_mape:\n",
    "            min_mape = mape\n",
    "\n",
    "print(f'The best Degreee: {best_degree}\\n'\n",
    "      f'The best Alpha: {best_alpha}\\n'\n",
    "      f'The best L1 Ratio: {best_l1_ratio}\\n'\n",
    "      f'R2: {max_r2:.3f}\\n'\n",
    "      f'MSE: {min_mse:.3f}\\n'\n",
    "      f'RMSE: {min_rmse:.3f}\\n'\n",
    "      f'MAE: {min_mae:.3f}\\n'\n",
    "      f'MAPE: {min_mape:.3f}\\n'\n",
    "    )"
   ]
  },
  {
   "cell_type": "markdown",
   "metadata": {},
   "source": [
    "### Test"
   ]
  },
  {
   "cell_type": "code",
   "execution_count": 8,
   "metadata": {},
   "outputs": [
    {
     "name": "stdout",
     "output_type": "stream",
     "text": [
      "Degreee: 3\n",
      "Alpha: 19\n",
      "R2: 0.009\n",
      "MSE: 482.615\n",
      "RMSE: 21.968\n",
      "MAE: 17.441\n",
      "MAPE: 8.714\n",
      "\n"
     ]
    }
   ],
   "source": [
    "# The best parameters retraining with test data\n",
    "\n",
    "# Define\n",
    "poly = pp.PolynomialFeatures(degree=best_degree)\n",
    "X_poly_train = poly.fit_transform(X_train)\n",
    "X_poly_val = poly.fit_transform(X_val)\n",
    "X_poly_test = poly.fit_transform(X_test)\n",
    "\n",
    "# Training\n",
    "model = lm.ElasticNet(alpha=best_alpha, l1_ratio=best_l1_ratio, max_iter=1000)\n",
    "model.fit( np.concatenate( ( X_poly_train, X_poly_val ) ),\n",
    "           np.concatenate( ( y_train, y_val ) ) )\n",
    "\n",
    "# Predict\n",
    "y_pred = model.predict(X_poly_test)\n",
    "\n",
    "r2 = mt.r2_score(y_test, y_pred)\n",
    "\n",
    "mse = mt.mean_squared_error(y_test, y_pred)   \n",
    "\n",
    "rmse = np.sqrt(mse)\n",
    "\n",
    "mae = mt.mean_absolute_error(y_test, y_pred)\n",
    "\n",
    "mape = mt.mean_absolute_percentage_error(y_test, y_pred)\n",
    "\n",
    "print(f'The best Degreee: {best_degree}\\n'\n",
    "      f'Alpha: {best_alpha}\\n'\n",
    "      f'L1 Ratio: {best_l1_ratio}\\n'\n",
    "      f'R2: {r2:.3f}\\n'\n",
    "      f'MSE: {mse:.3f}\\n'\n",
    "      f'RMSE: {rmse:.3f}\\n'\n",
    "      f'MAE: {mae:.3f}\\n'\n",
    "      f'MAPE: {mape:.3f}\\n'\n",
    "    )"
   ]
  }
 ],
 "metadata": {
  "kernelspec": {
   "display_name": "Python 3",
   "language": "python",
   "name": "python3"
  },
  "language_info": {
   "codemirror_mode": {
    "name": "ipython",
    "version": 3
   },
   "file_extension": ".py",
   "mimetype": "text/x-python",
   "name": "python",
   "nbconvert_exporter": "python",
   "pygments_lexer": "ipython3",
   "version": "3.11.4"
  }
 },
 "nbformat": 4,
 "nbformat_minor": 2
}
