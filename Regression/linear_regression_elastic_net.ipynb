{
 "cells": [
  {
   "cell_type": "markdown",
   "metadata": {},
   "source": [
    "# Linear Regression - Elastic Net"
   ]
  },
  {
   "cell_type": "markdown",
   "metadata": {},
   "source": [
    "### Import Libraries"
   ]
  },
  {
   "cell_type": "code",
   "execution_count": 4,
   "metadata": {},
   "outputs": [],
   "source": [
    "import pandas as pd\n",
    "import numpy  as np\n",
    "\n",
    "from sklearn import linear_model as lm\n",
    "from sklearn import metrics      as mt"
   ]
  },
  {
   "cell_type": "markdown",
   "metadata": {},
   "source": [
    "### Load Dataset"
   ]
  },
  {
   "cell_type": "code",
   "execution_count": 5,
   "metadata": {},
   "outputs": [],
   "source": [
    "X_train = pd.read_csv('Training/X_training.csv')\n",
    "y_train = pd.read_csv('Training/y_training.csv')\n",
    "X_val = pd.read_csv('Validation/X_val.csv')\n",
    "y_val = pd.read_csv('Validation/y_val.csv')\n",
    "X_test = pd.read_csv('Test/X_test.csv')\n",
    "y_test = pd.read_csv('Test/y_test.csv')"
   ]
  },
  {
   "cell_type": "markdown",
   "metadata": {},
   "source": [
    "### Model Training"
   ]
  },
  {
   "cell_type": "code",
   "execution_count": 8,
   "metadata": {},
   "outputs": [
    {
     "name": "stdout",
     "output_type": "stream",
     "text": [
      "The best parameters ->\n",
      "Alpha: 1\n",
      "L1 Value: 0.1\n",
      "R2: 0.010\n",
      "MSE: 473.21\n",
      "RMSE: 21.75\n",
      "MAE: 17.28\n",
      "MAPE: 8.72\n"
     ]
    }
   ],
   "source": [
    "a = np.arange( 1, 4, 1)\n",
    "l1_ratios = np.arange(0.1, 1.0, 0.1)\n",
    "r2_list = []\n",
    "mse_list = []\n",
    "rmse_list = []\n",
    "mae_list = []\n",
    "mape_list = []\n",
    "\n",
    "for i in a:\n",
    "    for l1 in l1_ratios: \n",
    "        # define model\n",
    "        elastic = lm.ElasticNet( alpha=i, l1_ratio=l1, max_iter=1000 )\n",
    "\n",
    "        # Fit\n",
    "        elastic.fit(X_train, y_train)\n",
    "\n",
    "        # Predict\n",
    "        yhat_train = elastic.predict(X_train)\n",
    "\n",
    "        r2 = mt.r2_score(y_train, yhat_train)\n",
    "        r2_list.append(r2)         \n",
    "\n",
    "        mse = mt.mean_squared_error(y_train, yhat_train)\n",
    "        mse_list.append(mse)\n",
    "        \n",
    "        rmse = np.sqrt(mse)\n",
    "        rmse_list.append(rmse)\n",
    "        \n",
    "        mae = mt.mean_absolute_error(y_train, yhat_train)    \n",
    "        mae_list.append(mae)\n",
    "\n",
    "        mape = mt.mean_absolute_percentage_error(y_train, yhat_train)\n",
    "        mape_list.append(mape)\n",
    "\n",
    "best_l1 = r2_list.index(max(r2_list))\n",
    "best_a = r2_list.index(max(r2_list))\n",
    "print(f'The best parameters ->\\n'\n",
    "    f'Alpha: {a[best_a]}\\n'\n",
    "    f'L1 Value: {l1_ratios[best_l1]}\\n'\n",
    "    f'R2: {max(r2_list):.3f}\\n'\n",
    "    f'MSE: {min(mse_list):.2f}\\n'\n",
    "    f'RMSE: {min(rmse_list):.2f}\\n'\n",
    "    f'MAE: {min(mae_list):.2f}\\n'\n",
    "    f'MAPE: {min(mape_list):.2f}')"
   ]
  },
  {
   "cell_type": "markdown",
   "metadata": {},
   "source": [
    "### Validation"
   ]
  },
  {
   "cell_type": "code",
   "execution_count": 9,
   "metadata": {},
   "outputs": [
    {
     "name": "stdout",
     "output_type": "stream",
     "text": [
      "Alpha: 1\n",
      "L1 Value: 0.1\n",
      "R2: 0.010\n",
      "MSE: 472.682\n",
      "RMSE: 21.741\n",
      "MAE: 17.249\n",
      "MAPE: 8.687\n"
     ]
    }
   ],
   "source": [
    "# Best parameters retraining with validation data\n",
    "best_a = r2_list.index(max(r2_list))\n",
    "\n",
    "# define model\n",
    "elastic = lm.ElasticNet( alpha=a[best_a], l1_ratio=l1_ratios[best_l1], max_iter=1000 )\n",
    "\n",
    "# model training\n",
    "elastic.fit( X_train, y_train )\n",
    "\n",
    "# predict\n",
    "yhat_val = elastic.predict( X_val )\n",
    "\n",
    "print(f'Alpha: {a[best_a]}')\n",
    "\n",
    "print(f'L1 Value: {l1_ratios[best_l1]}')\n",
    "\n",
    "r2_val = mt.r2_score(y_val, yhat_val)\n",
    "print(f'R2: {r2_val:.3f}')\n",
    "\n",
    "mse_val = mt.mean_squared_error(y_val, yhat_val)\n",
    "print(f'MSE: {mse_val:.3f}')\n",
    "\n",
    "rmse_val = np.sqrt(mse_val)\n",
    "print(f'RMSE: {rmse_val:.3f}')\n",
    "\n",
    "mae_val = mt.mean_absolute_error(y_val, yhat_val)\n",
    "print(f'MAE: {mae_val:.3f}')\n",
    "\n",
    "mape_val = mt.mean_absolute_percentage_error(y_val, yhat_val)\n",
    "print(f'MAPE: {mape_val:.3f}')"
   ]
  },
  {
   "cell_type": "markdown",
   "metadata": {},
   "source": [
    "### Test"
   ]
  },
  {
   "cell_type": "code",
   "execution_count": 11,
   "metadata": {},
   "outputs": [
    {
     "name": "stdout",
     "output_type": "stream",
     "text": [
      "Alpha: 1\n",
      "L1 Value: 0.1\n",
      "R2: 0.010\n",
      "MSE: 481.995\n",
      "RMSE: 21.954\n",
      "MAE: 17.452\n",
      "MAPE: 8.737\n"
     ]
    },
    {
     "name": "stderr",
     "output_type": "stream",
     "text": [
      "c:\\Users\\Felipe\\AppData\\Local\\Programs\\Python\\Python311\\Lib\\site-packages\\sklearn\\base.py:486: UserWarning: X has feature names, but ElasticNet was fitted without feature names\n",
      "  warnings.warn(\n"
     ]
    }
   ],
   "source": [
    "# Best parameters retraining with test data\n",
    "best_a = r2_list.index(max(r2_list))\n",
    "\n",
    "# define model\n",
    "elastic = lm.ElasticNet( alpha=a[best_a], l1_ratio=l1_ratios[best_l1], max_iter=1000 )\n",
    "\n",
    "# model training\n",
    "elastic.fit(np.concatenate(( X_train, X_val )),\n",
    "          np.concatenate(( y_train, y_val )))\n",
    "\n",
    "# predict\n",
    "y_pred = elastic.predict( X_test )\n",
    "\n",
    "print(f'Alpha: {a[best_a]}')\n",
    "\n",
    "print(f'L1 Value: {l1_ratios[best_l1]}')\n",
    "\n",
    "r2_test = mt.r2_score(y_test, y_pred)\n",
    "print(f'R2: {r2_test:.3f}')\n",
    "\n",
    "mse_test = mt.mean_squared_error(y_test, y_pred)\n",
    "print(f'MSE: {mse_test:.3f}')\n",
    "\n",
    "rmse_test = np.sqrt(mse_test)\n",
    "print(f'RMSE: {rmse_test:.3f}')\n",
    "\n",
    "mae_test = mt.mean_absolute_error(y_test, y_pred)\n",
    "print(f'MAE: {mae_test:.3f}')\n",
    "\n",
    "mape_test = mt.mean_absolute_percentage_error(y_test, y_pred)\n",
    "print(f'MAPE: {mape_test:.3f}')"
   ]
  }
 ],
 "metadata": {
  "kernelspec": {
   "display_name": "Python 3",
   "language": "python",
   "name": "python3"
  },
  "language_info": {
   "codemirror_mode": {
    "name": "ipython",
    "version": 3
   },
   "file_extension": ".py",
   "mimetype": "text/x-python",
   "name": "python",
   "nbconvert_exporter": "python",
   "pygments_lexer": "ipython3",
   "version": "3.11.4"
  }
 },
 "nbformat": 4,
 "nbformat_minor": 2
}
