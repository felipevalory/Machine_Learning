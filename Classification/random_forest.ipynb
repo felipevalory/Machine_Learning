{
 "cells": [
  {
   "cell_type": "markdown",
   "metadata": {},
   "source": [
    "# Random Forest Classfier"
   ]
  },
  {
   "cell_type": "markdown",
   "metadata": {},
   "source": [
    "### Import Libraries"
   ]
  },
  {
   "cell_type": "code",
   "execution_count": 11,
   "metadata": {},
   "outputs": [],
   "source": [
    "import pandas as pd\n",
    "import numpy  as np\n",
    "\n",
    "from sklearn import metrics as mt\n",
    "from sklearn import ensemble as en\n",
    "from matplotlib import pyplot as plt"
   ]
  },
  {
   "cell_type": "markdown",
   "metadata": {},
   "source": [
    "### Load Dataset"
   ]
  },
  {
   "cell_type": "code",
   "execution_count": 2,
   "metadata": {},
   "outputs": [],
   "source": [
    "X_train = pd.read_csv('Training/X_training.csv')\n",
    "y_train = pd.read_csv('Training/y_training.csv')\n",
    "X_val = pd.read_csv('Validation/X_validation.csv')\n",
    "y_val = pd.read_csv('Validation/y_validation.csv')\n",
    "X_test = pd.read_csv('Test/X_test.csv')\n",
    "y_test = pd.read_csv('Test/y_test.csv')"
   ]
  },
  {
   "cell_type": "code",
   "execution_count": 3,
   "metadata": {},
   "outputs": [],
   "source": [
    "y_train = y_train.values.ravel()\n",
    "y_val = y_val.values.ravel()"
   ]
  },
  {
   "cell_type": "markdown",
   "metadata": {},
   "source": [
    "### Training"
   ]
  },
  {
   "cell_type": "code",
   "execution_count": 7,
   "metadata": {},
   "outputs": [
    {
     "name": "stdout",
     "output_type": "stream",
     "text": [
      "Max Accuracy: 1.0\n",
      "Max Precision = 1.0\n",
      "Max Recall = 1.0\n",
      "Max f1-score = 1.0\n"
     ]
    }
   ],
   "source": [
    "r = np.arange( 2, 41, 1)\n",
    "acc_list = []\n",
    "precision_list = []\n",
    "recall_list = []\n",
    "f1_list = []\n",
    "max_acc = 0\n",
    "max_pre = 0\n",
    "max_rec = 0\n",
    "max_f1 = 0\n",
    "\n",
    "for i in r:\n",
    "\n",
    "    # model definition\n",
    "    model = en.RandomForestClassifier(n_estimators=50, max_depth=i)\n",
    "\n",
    "    # model training\n",
    "    model.fit(X_train, y_train)\n",
    "\n",
    "    # model performance\n",
    "    yhat_train = model.predict( X_train )\n",
    "    \n",
    "    # accuracy\n",
    "    acc = mt.accuracy_score( y_train, yhat_train )\n",
    "    acc_list.append( acc )\n",
    "    if acc > max_acc:\n",
    "        max_acc = acc\n",
    "    \n",
    "    # precision\n",
    "    precision = mt.precision_score( y_train, yhat_train)\n",
    "    precision_list.append( precision )\n",
    "    if precision > max_pre:\n",
    "        max_pre = precision\n",
    "    \n",
    "    # recall\n",
    "    recall = mt.recall_score( y_train, yhat_train)\n",
    "    recall_list.append( recall )\n",
    "    if recall > max_rec:\n",
    "        max_rec = recall\n",
    "    \n",
    "    # f1-score\n",
    "    f1 = mt.f1_score( y_train, yhat_train)\n",
    "    f1_list.append( f1 )\n",
    "    if f1 > max_f1:\n",
    "        max_f1 = f1\n",
    "\n",
    "\n",
    "print(f'Max Accuracy: {max_acc}')\n",
    "print(f'Max Precision = {max_pre}')\n",
    "print(f'Max Recall = {max_rec}')\n",
    "print(f'Max f1-score = {max_f1}')"
   ]
  },
  {
   "cell_type": "markdown",
   "metadata": {},
   "source": [
    "### Validation"
   ]
  },
  {
   "cell_type": "code",
   "execution_count": 5,
   "metadata": {},
   "outputs": [
    {
     "name": "stdout",
     "output_type": "stream",
     "text": [
      "Accuracy = 0.9644776215450948\n",
      "Precision = 0.9740817421976842\n",
      "Recall = 0.9431286658252283\n",
      "F1-score = 0.9583553376084496\n"
     ]
    }
   ],
   "source": [
    "# Best parameters retraining with validation data\n",
    "r = np.arange( 2, 41, 1)\n",
    "best_r = acc_list.index( max( acc_list ) )\n",
    "\n",
    "# model definition\n",
    "model = en.RandomForestClassifier(n_estimators=50, max_depth=r[best_r])\n",
    "\n",
    " # model training\n",
    "model.fit(X_train, y_train)\n",
    "\n",
    "# model performance\n",
    "yhat_val = model.predict( X_val )\n",
    "\n",
    "# accuracy\n",
    "acc_val = mt.accuracy_score ( y_val, yhat_val)\n",
    "print( f'Accuracy = {acc_val}')\n",
    "\n",
    "# precision\n",
    "precision_val = mt.precision_score( y_val, yhat_val)\n",
    "print( f'Precision = {precision_val}')\n",
    "    \n",
    "# recall\n",
    "recall_val = mt.recall_score( y_val, yhat_val)\n",
    "print( f'Recall = {recall_val}')\n",
    "    \n",
    "# f1-score\n",
    "f1_val = mt.f1_score( y_val, yhat_val)\n",
    "print( f'F1-score = {f1_val}')"
   ]
  },
  {
   "cell_type": "markdown",
   "metadata": {},
   "source": [
    "### Test"
   ]
  },
  {
   "cell_type": "code",
   "execution_count": 6,
   "metadata": {},
   "outputs": [
    {
     "name": "stderr",
     "output_type": "stream",
     "text": [
      "c:\\Users\\Felipe\\AppData\\Local\\Programs\\Python\\Python311\\Lib\\site-packages\\sklearn\\base.py:486: UserWarning: X has feature names, but RandomForestClassifier was fitted without feature names\n",
      "  warnings.warn(\n"
     ]
    },
    {
     "name": "stdout",
     "output_type": "stream",
     "text": [
      "Accuracy = 0.9644305410728768\n",
      "Precision = 0.9736078360239434\n",
      "Recall = 0.9445666520017598\n",
      "F1-score = 0.9588674020811934\n"
     ]
    }
   ],
   "source": [
    "# Best parameters retraining with validation data\n",
    "best_r = acc_list.index( max( acc_list ) )\n",
    "\n",
    "# model definition\n",
    "model = en.RandomForestClassifier(n_estimators=50, max_depth=r[best_r])\n",
    "\n",
    " # model training\n",
    "model.fit(np.concatenate( (X_train, X_val)),\n",
    "          np.concatenate( (y_train, y_val)))\n",
    "\n",
    "# model performance\n",
    "y_pred = model.predict( X_test )\n",
    "\n",
    "# accuracy\n",
    "acc_test = mt.accuracy_score ( y_test, y_pred)\n",
    "print( f'Accuracy = {acc_test}')\n",
    "\n",
    "# precision\n",
    "precision_test = mt.precision_score( y_test, y_pred)\n",
    "print( f'Precision = {precision_test}')\n",
    "    \n",
    "# recall\n",
    "recall_test = mt.recall_score( y_test, y_pred)\n",
    "print( f'Recall = {recall_test}')\n",
    "    \n",
    "# f1-score\n",
    "f1_test = mt.f1_score( y_test, y_pred)\n",
    "print( f'F1-score = {f1_test}')"
   ]
  },
  {
   "cell_type": "markdown",
   "metadata": {},
   "source": [
    "### Features Importances"
   ]
  },
  {
   "cell_type": "code",
   "execution_count": 13,
   "metadata": {},
   "outputs": [
    {
     "data": {
      "text/plain": [
       "array([0.03063474, 0.04255872, 0.02583731, 0.09818321, 0.02700638,\n",
       "       0.13495205, 0.01268096, 0.03681061, 0.0126797 , 0.01093061,\n",
       "       0.17621875, 0.03402755, 0.05704174, 0.03306755, 0.03627349,\n",
       "       0.02361803, 0.02283882, 0.021508  , 0.0246642 , 0.00932767,\n",
       "       0.0112963 , 0.00275702, 0.00274145, 0.04666953, 0.06567559])"
      ]
     },
     "execution_count": 13,
     "metadata": {},
     "output_type": "execute_result"
    }
   ],
   "source": [
    "# which feature has the greatest weight\n",
    "model.feature_importances_"
   ]
  },
  {
   "cell_type": "code",
   "execution_count": 14,
   "metadata": {},
   "outputs": [
    {
     "data": {
      "image/png": "[encoded data removed]",
      "text/plain": [
       "<Figure size 640x480 with 1 Axes>"
      ]
     },
     "metadata": {},
     "output_type": "display_data"
    }
   ],
   "source": [
    "feature_names = [f'feature {i}' for i in range(X_train.shape[1])]\n",
    "importances = model.feature_importances_\n",
    "forest_importances = pd.Series(importances, index=feature_names)\n",
    "\n",
    "fig, ax = plt.subplots()\n",
    "forest_importances.plot.bar(ax=ax)\n",
    "ax.set_title('Feature importances using MDI')\n",
    "fig.tight_layout()"
   ]
  },
  {
   "cell_type": "markdown",
   "metadata": {},
   "source": [
    "#### The most important variables that influence the classification are: <br> - Class (feature 03) <br> - Inflight_wifi_service (feature 05) <br> - Online_boarding (feature 10)"
   ]
  }
 ],
 "metadata": {
  "kernelspec": {
   "display_name": "Python 3",
   "language": "python",
   "name": "python3"
  },
  "language_info": {
   "codemirror_mode": {
    "name": "ipython",
    "version": 3
   },
   "file_extension": ".py",
   "mimetype": "text/x-python",
   "name": "python",
   "nbconvert_exporter": "python",
   "pygments_lexer": "ipython3",
   "version": "3.11.4"
  }
 },
 "nbformat": 4,
 "nbformat_minor": 2
}
