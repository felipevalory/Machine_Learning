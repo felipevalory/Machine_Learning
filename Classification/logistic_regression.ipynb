{
 "cells": [
  {
   "cell_type": "markdown",
   "metadata": {},
   "source": [
    "# Logistic Regression Classifier"
   ]
  },
  {
   "cell_type": "markdown",
   "metadata": {},
   "source": [
    "### Import Libraries"
   ]
  },
  {
   "cell_type": "code",
   "execution_count": 11,
   "metadata": {},
   "outputs": [],
   "source": [
    "import pandas as pd\n",
    "import numpy  as np\n",
    "\n",
    "from sklearn import datasets        as dt\n",
    "from sklearn import model_selection as ms\n",
    "from sklearn import metrics         as mt\n",
    "from sklearn import linear_model    as lm\n"
   ]
  },
  {
   "cell_type": "markdown",
   "metadata": {},
   "source": [
    "### Load Dataset"
   ]
  },
  {
   "cell_type": "code",
   "execution_count": 2,
   "metadata": {},
   "outputs": [],
   "source": [
    "X_train = pd.read_csv('Training/X_training.csv')\n",
    "y_train = pd.read_csv('Training/y_training.csv')\n",
    "X_val = pd.read_csv('Validation/X_validation.csv')\n",
    "y_val = pd.read_csv('Validation/y_validation.csv')\n",
    "X_test = pd.read_csv('Test/X_test.csv')\n",
    "y_test = pd.read_csv('Test/y_test.csv')"
   ]
  },
  {
   "cell_type": "code",
   "execution_count": 3,
   "metadata": {},
   "outputs": [],
   "source": [
    "y_train = y_train.values.ravel()\n",
    "y_val = y_val.values.ravel()"
   ]
  },
  {
   "cell_type": "markdown",
   "metadata": {},
   "source": [
    "### Training"
   ]
  },
  {
   "cell_type": "code",
   "execution_count": 10,
   "metadata": {},
   "outputs": [
    {
     "name": "stdout",
     "output_type": "stream",
     "text": [
      "Accuracy = 0.8760808108667172\n",
      "Precision = 0.8716055106636641\n",
      "Recall = 0.8374379534173348\n",
      "F1-score = 0.8541801895365442\n"
     ]
    }
   ],
   "source": [
    "# Define\n",
    "model = lm.LogisticRegression(C=1.0, solver='newton-cholesky', max_iter=100)\n",
    "\n",
    "# Fit\n",
    "model.fit(X_train, y_train)\n",
    "\n",
    "# Predict\n",
    "y_pred = model.predict(X_train)\n",
    "\n",
    "    # accuracy\n",
    "acc = mt.accuracy_score( y_train, y_pred )\n",
    "print( f'Accuracy = {acc}')\n",
    "\n",
    "# precision\n",
    "precision = mt.precision_score( y_train, y_pred)\n",
    "print( f'Precision = {precision}')\n",
    "\n",
    "# recall\n",
    "recall = mt.recall_score( y_train, y_pred)\n",
    "print( f'Recall = {recall}')\n",
    "\n",
    "# f1-score\n",
    "f1 = mt.f1_score( y_train, y_pred)\n",
    "print( f'F1-score = {f1}')"
   ]
  },
  {
   "cell_type": "markdown",
   "metadata": {},
   "source": [
    "### Validation"
   ]
  },
  {
   "cell_type": "code",
   "execution_count": 12,
   "metadata": {},
   "outputs": [
    {
     "name": "stdout",
     "output_type": "stream",
     "text": [
      "Accuracy = 0.8743846327101902\n",
      "Precision = 0.8692765037448845\n",
      "Recall = 0.8358452743336551\n",
      "F1-score = 0.8522331566994701\n"
     ]
    }
   ],
   "source": [
    "# Best parameters retraining with validation data\n",
    "\n",
    "# Define\n",
    "model = lm.LogisticRegression(C=1.0, solver='newton-cholesky', max_iter=100)\n",
    "\n",
    "# Fit\n",
    "model.fit(X_train, y_train)\n",
    "\n",
    "# Predict\n",
    "yhat_val = model.predict(X_val)\n",
    "\n",
    "    # accuracy\n",
    "acc = mt.accuracy_score( y_val, yhat_val )\n",
    "print( f'Accuracy = {acc}')\n",
    "\n",
    "# precision\n",
    "precision = mt.precision_score( y_val, yhat_val)\n",
    "print( f'Precision = {precision}')\n",
    "\n",
    "# recall\n",
    "recall = mt.recall_score( y_val, yhat_val)\n",
    "print( f'Recall = {recall}')\n",
    "\n",
    "# f1-score\n",
    "f1 = mt.f1_score( y_val, yhat_val)\n",
    "print( f'F1-score = {f1}')"
   ]
  },
  {
   "cell_type": "markdown",
   "metadata": {},
   "source": [
    "## Test"
   ]
  },
  {
   "cell_type": "code",
   "execution_count": 13,
   "metadata": {},
   "outputs": [
    {
     "name": "stdout",
     "output_type": "stream",
     "text": [
      "Accuracy = 0.8717800177654192\n",
      "Precision = 0.8680574617988837\n",
      "Recall = 0.834755829300484\n",
      "F1-score = 0.8510810083430519\n"
     ]
    },
    {
     "name": "stderr",
     "output_type": "stream",
     "text": [
      "c:\\Users\\Felipe\\AppData\\Local\\Programs\\Python\\Python311\\Lib\\site-packages\\sklearn\\base.py:486: UserWarning: X has feature names, but LogisticRegression was fitted without feature names\n",
      "  warnings.warn(\n"
     ]
    }
   ],
   "source": [
    "# Best parameters retraining with test data\n",
    "\n",
    "# Define\n",
    "model = lm.LogisticRegression(C=1.0, solver='newton-cholesky', max_iter=100)\n",
    "\n",
    "# Fit\n",
    "model.fit(np.concatenate( (X_train, X_val)),\n",
    "          np.concatenate( (y_train, y_val)))\n",
    "\n",
    "# Predict\n",
    "yhat_test = model.predict(X_test)\n",
    "\n",
    "    # accuracy\n",
    "acc = mt.accuracy_score( y_test, yhat_test )\n",
    "print( f'Accuracy = {acc}')\n",
    "\n",
    "# precision\n",
    "precision = mt.precision_score( y_test, yhat_test)\n",
    "print( f'Precision = {precision}')\n",
    "\n",
    "# recall\n",
    "recall = mt.recall_score( y_test, yhat_test)\n",
    "print( f'Recall = {recall}')\n",
    "\n",
    "# f1-score\n",
    "f1 = mt.f1_score( y_test, yhat_test)\n",
    "print( f'F1-score = {f1}')"
   ]
  }
 ],
 "metadata": {
  "kernelspec": {
   "display_name": "Python 3",
   "language": "python",
   "name": "python3"
  },
  "language_info": {
   "codemirror_mode": {
    "name": "ipython",
    "version": 3
   },
   "file_extension": ".py",
   "mimetype": "text/x-python",
   "name": "python",
   "nbconvert_exporter": "python",
   "pygments_lexer": "ipython3",
   "version": "3.11.4"
  }
 },
 "nbformat": 4,
 "nbformat_minor": 2
}
