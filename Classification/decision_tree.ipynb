{
 "cells": [
  {
   "cell_type": "markdown",
   "metadata": {},
   "source": [
    "# Decision Tree Classifier"
   ]
  },
  {
   "cell_type": "markdown",
   "metadata": {},
   "source": [
    "### Import Libraries"
   ]
  },
  {
   "cell_type": "code",
   "execution_count": 3,
   "metadata": {},
   "outputs": [],
   "source": [
    "import pandas as pd\n",
    "import numpy  as np\n",
    "\n",
    "from sklearn    import metrics   as mt\n",
    "from sklearn    import tree      as tr\n",
    "from matplotlib import pyplot    as plt\n"
   ]
  },
  {
   "cell_type": "markdown",
   "metadata": {},
   "source": [
    "### Load Dataset"
   ]
  },
  {
   "cell_type": "code",
   "execution_count": 2,
   "metadata": {},
   "outputs": [],
   "source": [
    "X_train = pd.read_csv('Training/X_training.csv')\n",
    "y_train = pd.read_csv('Training/y_training.csv')\n",
    "X_val = pd.read_csv('Validation/X_validation.csv')\n",
    "y_val = pd.read_csv('Validation/y_validation.csv')\n",
    "X_test = pd.read_csv('Test/X_test.csv')\n",
    "y_test = pd.read_csv('Test/y_test.csv')"
   ]
  },
  {
   "cell_type": "code",
   "execution_count": 5,
   "metadata": {},
   "outputs": [],
   "source": [
    "y_train = y_train.values.ravel()\n",
    "y_val = y_val.values.ravel()"
   ]
  },
  {
   "cell_type": "markdown",
   "metadata": {},
   "source": [
    "### Training"
   ]
  },
  {
   "cell_type": "code",
   "execution_count": 7,
   "metadata": {},
   "outputs": [
    {
     "name": "stdout",
     "output_type": "stream",
     "text": [
      "Accuracy: 0.8570916362131973\n",
      "Precision: 0.8297485989793683\n",
      "Recall: 0.8432926053200968\n",
      "F1-Score: 0.8364657797976929\n",
      "Accuracy: 0.8841618975384403\n",
      "Precision: 0.8395058088105207\n",
      "Recall: 0.9059119256713758\n",
      "F1-Score: 0.8714456245600073\n",
      "Accuracy: 0.8934427359856582\n",
      "Precision: 0.9233077335238435\n",
      "Recall: 0.8224513172966781\n",
      "F1-Score: 0.8699661747134948\n",
      "Accuracy: 0.9067641177687376\n",
      "Precision: 0.9077324870243645\n",
      "Recall: 0.8736795214458445\n",
      "F1-Score: 0.890380530829969\n",
      "Accuracy: 0.9228159691098393\n",
      "Precision: 0.9018637792090607\n",
      "Recall: 0.9222667684866998\n",
      "F1-Score: 0.9119511696320418\n",
      "Accuracy: 0.9345101013583397\n",
      "Precision: 0.952662119515423\n",
      "Recall: 0.8932798778159603\n",
      "F1-Score: 0.9220158628503867\n",
      "Accuracy: 0.9427015100324071\n",
      "Precision: 0.9503616367779649\n",
      "Recall: 0.9156166475754105\n",
      "F1-Score: 0.9326656619184209\n",
      "Accuracy: 0.9494863131765842\n",
      "Precision: 0.9615039393637179\n",
      "Recall: 0.9202940053455517\n",
      "F1-Score: 0.9404477393552163\n",
      "Accuracy: 0.9554437013031787\n",
      "Precision: 0.9638122183110175\n",
      "Recall: 0.932194221713122\n",
      "F1-Score: 0.9477395875454913\n",
      "Accuracy: 0.9610425429221541\n",
      "Precision: 0.9693171003839465\n",
      "Recall: 0.9398625429553265\n",
      "F1-Score: 0.954362611266377\n",
      "Accuracy: 0.9663931600358546\n",
      "Precision: 0.9768099733561396\n",
      "Recall: 0.9448899070892198\n",
      "F1-Score: 0.9605848388296754\n",
      "Accuracy: 0.9708198303799214\n",
      "Precision: 0.9776119402985075\n",
      "Recall: 0.9545309914725723\n",
      "F1-Score: 0.9659336059503494\n",
      "Accuracy: 0.9744604564572847\n",
      "Precision: 0.9817879715905389\n",
      "Recall: 0.9588583428789614\n",
      "F1-Score: 0.9701876951804513\n",
      "Accuracy: 0.9778666482796663\n",
      "Precision: 0.9858907100263938\n",
      "Recall: 0.9627084128802342\n",
      "F1-Score: 0.9741616626688346\n",
      "Accuracy: 0.9810935668482383\n",
      "Precision: 0.9866899834839211\n",
      "Recall: 0.9694539900725467\n",
      "F1-Score: 0.9779960518079831\n",
      "Accuracy: 0.9845962904226712\n",
      "Precision: 0.9908663967611336\n",
      "Recall: 0.9734313351151839\n",
      "F1-Score: 0.9820714893343819\n",
      "Accuracy: 0.9873543404812797\n",
      "Precision: 0.9916529698024429\n",
      "Recall: 0.9790632556955581\n",
      "F1-Score: 0.9853178987143154\n",
      "Accuracy: 0.9897262635316831\n",
      "Precision: 0.9929946335036473\n",
      "Recall: 0.9832315133002418\n",
      "F1-Score: 0.9880889571042576\n",
      "Accuracy: 0.9916568985727091\n",
      "Precision: 0.9943227379157712\n",
      "Recall: 0.9863815705740104\n",
      "F1-Score: 0.99033623512499\n",
      "Accuracy: 0.9934082603599256\n",
      "Precision: 0.9963117382937781\n",
      "Recall: 0.9884497899961817\n",
      "F1-Score: 0.9923651929465883\n",
      "Accuracy: 0.9950630903950907\n",
      "Precision: 0.9961356668369954\n",
      "Recall: 0.9924589537991599\n",
      "F1-Score: 0.9942939113802997\n",
      "Accuracy: 0.9961938909191201\n",
      "Precision: 0.996937212863706\n",
      "Recall: 0.9942726231386025\n",
      "F1-Score: 0.9956031351558019\n",
      "Accuracy: 0.9973798524443218\n",
      "Precision: 0.9974837558924704\n",
      "Recall: 0.9964681176021383\n",
      "F1-Score: 0.9969756780848084\n",
      "Accuracy: 0.9983313797145418\n",
      "Precision: 0.9979323726818716\n",
      "Recall: 0.9982181494208986\n",
      "F1-Score: 0.9980752405949256\n",
      "Accuracy: 0.9989519409777288\n",
      "Precision: 0.9991402916640132\n",
      "Recall: 0.9984408807432863\n",
      "F1-Score: 0.9987904637616577\n",
      "Accuracy: 0.9993380679859339\n",
      "Precision: 0.999777027457476\n",
      "Recall: 0.998695430826015\n",
      "F1-Score: 0.9992359364553819\n",
      "Accuracy: 0.9995725022409157\n",
      "Precision: 0.9996817009899099\n",
      "Recall: 0.999331806032837\n",
      "F1-Score: 0.9995067228896491\n",
      "Accuracy: 0.9997931462456043\n",
      "Precision: 0.9999363401979819\n",
      "Recall: 0.9995863561155658\n",
      "F1-Score: 0.9997613175272496\n",
      "Accuracy: 0.9998758877473626\n",
      "Precision: 0.9998727209087727\n",
      "Recall: 0.9998409061982945\n",
      "F1-Score: 0.9998568133004534\n",
      "Accuracy: 0.999972419499414\n",
      "Precision: 0.9999681812396589\n",
      "Recall: 0.9999681812396589\n",
      "F1-Score: 0.9999681812396589\n",
      "Accuracy: 1.0\n",
      "Precision: 1.0\n",
      "Recall: 1.0\n",
      "F1-Score: 1.0\n",
      "Accuracy: 1.0\n",
      "Precision: 1.0\n",
      "Recall: 1.0\n",
      "F1-Score: 1.0\n",
      "Accuracy: 1.0\n",
      "Precision: 1.0\n",
      "Recall: 1.0\n",
      "F1-Score: 1.0\n",
      "Accuracy: 1.0\n",
      "Precision: 1.0\n",
      "Recall: 1.0\n",
      "F1-Score: 1.0\n",
      "Accuracy: 1.0\n",
      "Precision: 1.0\n",
      "Recall: 1.0\n",
      "F1-Score: 1.0\n",
      "Accuracy: 1.0\n",
      "Precision: 1.0\n",
      "Recall: 1.0\n",
      "F1-Score: 1.0\n",
      "Accuracy: 1.0\n",
      "Precision: 1.0\n",
      "Recall: 1.0\n",
      "F1-Score: 1.0\n",
      "Accuracy: 1.0\n",
      "Precision: 1.0\n",
      "Recall: 1.0\n",
      "F1-Score: 1.0\n",
      "Accuracy: 1.0\n",
      "Precision: 1.0\n",
      "Recall: 1.0\n",
      "F1-Score: 1.0\n",
      "Accuracy: 1.0\n",
      "Precision: 1.0\n",
      "Recall: 1.0\n",
      "F1-Score: 1.0\n",
      "Accuracy: 1.0\n",
      "Precision: 1.0\n",
      "Recall: 1.0\n",
      "F1-Score: 1.0\n",
      "Accuracy: 1.0\n",
      "Precision: 1.0\n",
      "Recall: 1.0\n",
      "F1-Score: 1.0\n",
      "Accuracy: 1.0\n",
      "Precision: 1.0\n",
      "Recall: 1.0\n",
      "F1-Score: 1.0\n",
      "Accuracy: 1.0\n",
      "Precision: 1.0\n",
      "Recall: 1.0\n",
      "F1-Score: 1.0\n",
      "Accuracy: 1.0\n",
      "Precision: 1.0\n",
      "Recall: 1.0\n",
      "F1-Score: 1.0\n",
      "Accuracy: 1.0\n",
      "Precision: 1.0\n",
      "Recall: 1.0\n",
      "F1-Score: 1.0\n",
      "Accuracy: 1.0\n",
      "Precision: 1.0\n",
      "Recall: 1.0\n",
      "F1-Score: 1.0\n",
      "Accuracy: 1.0\n",
      "Precision: 1.0\n",
      "Recall: 1.0\n",
      "F1-Score: 1.0\n",
      "Accuracy: 1.0\n",
      "Precision: 1.0\n",
      "Recall: 1.0\n",
      "F1-Score: 1.0\n",
      "Accuracy: 1.0\n",
      "Precision: 1.0\n",
      "Recall: 1.0\n",
      "F1-Score: 1.0\n",
      "Accuracy: 1.0\n",
      "Precision: 1.0\n",
      "Recall: 1.0\n",
      "F1-Score: 1.0\n",
      "Accuracy: 1.0\n",
      "Precision: 1.0\n",
      "Recall: 1.0\n",
      "F1-Score: 1.0\n",
      "Accuracy: 1.0\n",
      "Precision: 1.0\n",
      "Recall: 1.0\n",
      "F1-Score: 1.0\n",
      "Accuracy: 1.0\n",
      "Precision: 1.0\n",
      "Recall: 1.0\n",
      "F1-Score: 1.0\n",
      "Accuracy: 1.0\n",
      "Precision: 1.0\n",
      "Recall: 1.0\n",
      "F1-Score: 1.0\n",
      "Accuracy: 1.0\n",
      "Precision: 1.0\n",
      "Recall: 1.0\n",
      "F1-Score: 1.0\n",
      "Accuracy: 1.0\n",
      "Precision: 1.0\n",
      "Recall: 1.0\n",
      "F1-Score: 1.0\n",
      "Accuracy: 1.0\n",
      "Precision: 1.0\n",
      "Recall: 1.0\n",
      "F1-Score: 1.0\n"
     ]
    }
   ],
   "source": [
    "m = np.arange( 2, 60, 1)\n",
    "acc_list = []\n",
    "precision_list = []\n",
    "recall_list = []\n",
    "f1_list = []\n",
    "\n",
    "for i in m:\n",
    "    # Define\n",
    "    model = tr.DecisionTreeClassifier(max_depth=i)\n",
    "\n",
    "    # Fit\n",
    "    model.fit(X_train, y_train)\n",
    "\n",
    "    # Predict\n",
    "    yhat_train = model.predict(X_train)\n",
    "\n",
    "    # Accuracy\n",
    "    acc = mt.accuracy_score(y_train, yhat_train)\n",
    "    print(f'Accuracy: {acc}')\n",
    "    acc_list.append(acc)\n",
    "\n",
    "    # Precision\n",
    "    precision = mt.precision_score(y_train, yhat_train)\n",
    "    print(f'Precision: {precision}')\n",
    "    precision_list.append(precision)\n",
    "\n",
    "    # Recall\n",
    "    recall = mt.recall_score(y_train, yhat_train)\n",
    "    print(f'Recall: {recall}')\n",
    "    recall_list.append(recall)\n",
    "\n",
    "    # F1-Score\n",
    "    f1 = mt.f1_score(y_train, yhat_train)\n",
    "    print(f'F1-Score: {f1}')\n",
    "    f1_list.append(f1)"
   ]
  },
  {
   "cell_type": "code",
   "execution_count": 8,
   "metadata": {},
   "outputs": [
    {
     "data": {
      "text/plain": [
       "[<matplotlib.lines.Line2D at 0x27ceefd6650>]"
      ]
     },
     "execution_count": 8,
     "metadata": {},
     "output_type": "execute_result"
    },
    {
     "data": {
      "image/png": "[encoded data removed]",
      "text/plain": [
       "<Figure size 640x480 with 1 Axes>"
      ]
     },
     "metadata": {},
     "output_type": "display_data"
    }
   ],
   "source": [
    "plt.plot(m, acc_list, '-o')"
   ]
  },
  {
   "cell_type": "code",
   "execution_count": 12,
   "metadata": {},
   "outputs": [
    {
     "data": {
      "text/plain": [
       "[<matplotlib.lines.Line2D at 0x27cf40c2cd0>]"
      ]
     },
     "execution_count": 12,
     "metadata": {},
     "output_type": "execute_result"
    },
    {
     "data": {
      "image/png": "[encoded data removed]",
      "text/plain": [
       "<Figure size 640x480 with 1 Axes>"
      ]
     },
     "metadata": {},
     "output_type": "display_data"
    }
   ],
   "source": [
    "plt.plot(m, precision_list, '-o')"
   ]
  },
  {
   "cell_type": "code",
   "execution_count": 11,
   "metadata": {},
   "outputs": [
    {
     "data": {
      "text/plain": [
       "[<matplotlib.lines.Line2D at 0x27cf0ec8a90>]"
      ]
     },
     "execution_count": 11,
     "metadata": {},
     "output_type": "execute_result"
    },
    {
     "data": {
      "image/png": "[encoded data removed]",
      "text/plain": [
       "<Figure size 640x480 with 1 Axes>"
      ]
     },
     "metadata": {},
     "output_type": "display_data"
    }
   ],
   "source": [
    "plt.plot(m, recall_list, '-o')"
   ]
  },
  {
   "cell_type": "code",
   "execution_count": 13,
   "metadata": {},
   "outputs": [
    {
     "data": {
      "text/plain": [
       "[<matplotlib.lines.Line2D at 0x27cf412a210>]"
      ]
     },
     "execution_count": 13,
     "metadata": {},
     "output_type": "execute_result"
    },
    {
     "data": {
      "image/png": "[encoded data removed]",
      "text/plain": [
       "<Figure size 640x480 with 1 Axes>"
      ]
     },
     "metadata": {},
     "output_type": "display_data"
    }
   ],
   "source": [
    "plt.plot(m, f1_list, '-o')"
   ]
  },
  {
   "cell_type": "code",
   "execution_count": 14,
   "metadata": {},
   "outputs": [
    {
     "name": "stdout",
     "output_type": "stream",
     "text": [
      "Accuracy = 1.0\n",
      "Precision = 1.0\n",
      "Recall = 1.0\n",
      "f1-score = 1.0\n"
     ]
    }
   ],
   "source": [
    "# for training data\n",
    "# accuracy\n",
    "acc = mt.accuracy_score ( y_train, yhat_train)\n",
    "print( 'Accuracy = {}'.format ( acc ))\n",
    "\n",
    "# precision\n",
    "precision = mt.precision_score( y_train, yhat_train)\n",
    "print( 'Precision = {}'.format( precision ))\n",
    "   \n",
    "# recall\n",
    "recall = mt.recall_score( y_train, yhat_train)\n",
    "print( 'Recall = {}'.format( recall ))\n",
    " \n",
    "# f1-score\n",
    "f1_score = mt.f1_score( y_train, yhat_train)\n",
    "print( 'f1-score = {}'.format( f1_score ))"
   ]
  },
  {
   "cell_type": "markdown",
   "metadata": {},
   "source": [
    "### Validation"
   ]
  },
  {
   "cell_type": "code",
   "execution_count": 15,
   "metadata": {},
   "outputs": [
    {
     "name": "stdout",
     "output_type": "stream",
     "text": [
      "Accuracy = 0.9462337913060266\n",
      "Precision = 0.9373517200474496\n",
      "Recall = 0.9386739921300765\n",
      "F1-score = 0.9380123901027563\n"
     ]
    }
   ],
   "source": [
    "# Best parameters retraining with validation data\n",
    "best_m = acc_list.index( max ( acc_list ) )\n",
    "\n",
    "# model definition\n",
    "model = tr.DecisionTreeClassifier( max_depth=m[best_m])\n",
    "\n",
    "# model training\n",
    "model.fit ( X_train, y_train )\n",
    "\n",
    "# model performance\n",
    "yhat_val = model.predict( X_val)\n",
    "\n",
    "# accuracy\n",
    "acc_val = mt.accuracy_score ( y_val, yhat_val)\n",
    "print( f'Accuracy = {acc_val}')\n",
    "\n",
    "# precision\n",
    "precision_val = mt.precision_score( y_val, yhat_val)\n",
    "print( f'Precision = {precision_val}')\n",
    "    \n",
    "# recall\n",
    "recall_val = mt.recall_score( y_val, yhat_val)\n",
    "print( f'Recall = {recall_val}')\n",
    "    \n",
    "# f1-score\n",
    "f1_val = mt.f1_score( y_val, yhat_val)\n",
    "print( f'F1-score = {f1_val}')"
   ]
  },
  {
   "cell_type": "markdown",
   "metadata": {},
   "source": [
    "### Test"
   ]
  },
  {
   "cell_type": "code",
   "execution_count": 16,
   "metadata": {},
   "outputs": [
    {
     "name": "stdout",
     "output_type": "stream",
     "text": [
      "Accuracy = 0.9464720194647201\n",
      "Precision = 0.9373301779297046\n",
      "Recall = 0.9409590849098108\n",
      "F1-score = 0.9391411258452621\n"
     ]
    },
    {
     "name": "stderr",
     "output_type": "stream",
     "text": [
      "c:\\Users\\Felipe\\AppData\\Local\\Programs\\Python\\Python311\\Lib\\site-packages\\sklearn\\base.py:486: UserWarning: X has feature names, but DecisionTreeClassifier was fitted without feature names\n",
      "  warnings.warn(\n"
     ]
    }
   ],
   "source": [
    "# Best parameters retraining with test data\n",
    "best_m = acc_list.index( max ( acc_list ) )\n",
    "\n",
    "# model definition\n",
    "model = tr.DecisionTreeClassifier( max_depth=m[best_m])\n",
    "\n",
    "# model training\n",
    "model.fit(np.concatenate( (X_train, X_val) ),\n",
    "          np.concatenate( (y_train, y_val) ) )\n",
    "\n",
    "# model performance\n",
    "y_pred = model.predict( X_test)\n",
    "\n",
    "# accuracy\n",
    "acc_test = mt.accuracy_score ( y_test, y_pred)\n",
    "print( f'Accuracy = {acc_test}')\n",
    "\n",
    "# precision\n",
    "precision_test = mt.precision_score( y_test, y_pred)\n",
    "print( f'Precision = {precision_test}')\n",
    "    \n",
    "# recall\n",
    "recall_test = mt.recall_score( y_test, y_pred)\n",
    "print( f'Recall = {recall_test}')\n",
    "    \n",
    "# f1-score\n",
    "f1_test = mt.f1_score( y_test, y_pred)\n",
    "print( f'F1-score = {f1_test}')"
   ]
  }
 ],
 "metadata": {
  "kernelspec": {
   "display_name": "Python 3",
   "language": "python",
   "name": "python3"
  },
  "language_info": {
   "codemirror_mode": {
    "name": "ipython",
    "version": 3
   },
   "file_extension": ".py",
   "mimetype": "text/x-python",
   "name": "python",
   "nbconvert_exporter": "python",
   "pygments_lexer": "ipython3",
   "version": "3.11.4"
  }
 },
 "nbformat": 4,
 "nbformat_minor": 2
}
